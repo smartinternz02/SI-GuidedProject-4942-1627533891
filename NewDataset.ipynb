{
  "nbformat": 4,
  "nbformat_minor": 0,
  "metadata": {
    "accelerator": "GPU",
    "colab": {
      "name": "NewDataset.ipynb",
      "provenance": [],
      "collapsed_sections": [],
      "machine_shape": "hm"
    },
    "kernelspec": {
      "display_name": "Python 3",
      "name": "python3"
    },
    "language_info": {
      "name": "python"
    }
  },
  "cells": [
    {
      "cell_type": "code",
      "metadata": {
        "id": "WQenRSIIrdfR"
      },
      "source": [
        "import numpy as np"
      ],
      "execution_count": null,
      "outputs": []
    },
    {
      "cell_type": "code",
      "metadata": {
        "colab": {
          "base_uri": "https://localhost:8080/"
        },
        "id": "LtClez_xrzg3",
        "outputId": "4b30448c-7aba-49eb-991e-d96587651d0f"
      },
      "source": [
        "DATA_URL = '/content/drive/My Drive/food_data/Test_X_array.npy'\n",
        "data = np.load(DATA_URL)\n",
        "data.shape"
      ],
      "execution_count": null,
      "outputs": [
        {
          "output_type": "execute_result",
          "data": {
            "text/plain": [
              "(32573, 208)"
            ]
          },
          "metadata": {
            "tags": []
          },
          "execution_count": 3
        }
      ]
    },
    {
      "cell_type": "code",
      "metadata": {
        "colab": {
          "base_uri": "https://localhost:8080/"
        },
        "id": "qmHhqI8gw9jp",
        "outputId": "ce4585b0-bbc9-451e-b7a5-91cc9e00fcef"
      },
      "source": [
        "DATA_URL = '/content/drive/My Drive/food_data/Train_X_Array_ver2.npy'\n",
        "train_data = np.load(DATA_URL)\n",
        "train_data.shape"
      ],
      "execution_count": null,
      "outputs": [
        {
          "output_type": "execute_result",
          "data": {
            "text/plain": [
              "(456548, 208)"
            ]
          },
          "metadata": {
            "tags": []
          },
          "execution_count": 4
        }
      ]
    },
    {
      "cell_type": "code",
      "metadata": {
        "colab": {
          "base_uri": "https://localhost:8080/"
        },
        "id": "AOv0c-t6Zt0y",
        "outputId": "8d171e23-89ea-4ba0-86ff-eea655c41ed3"
      },
      "source": [
        "from google.colab import drive\n",
        "drive.mount('/content/drive')"
      ],
      "execution_count": null,
      "outputs": [
        {
          "output_type": "stream",
          "text": [
            "Drive already mounted at /content/drive; to attempt to forcibly remount, call drive.mount(\"/content/drive\", force_remount=True).\n"
          ],
          "name": "stdout"
        }
      ]
    },
    {
      "cell_type": "code",
      "metadata": {
        "colab": {
          "base_uri": "https://localhost:8080/"
        },
        "id": "Wmkg9bsuw9qt",
        "outputId": "476695f2-ba83-48f9-9771-851c7f17c3aa"
      },
      "source": [
        "DATA_URL = '/content/drive/My Drive/food_data/Yarray.npy'\n",
        "y_data = np.load(DATA_URL)\n",
        "y_data.shape"
      ],
      "execution_count": null,
      "outputs": [
        {
          "output_type": "execute_result",
          "data": {
            "text/plain": [
              "(456548,)"
            ]
          },
          "metadata": {
            "tags": []
          },
          "execution_count": 5
        }
      ]
    },
    {
      "cell_type": "code",
      "metadata": {
        "id": "EQfqoV7gw9tk"
      },
      "source": [
        "from sklearn.model_selection import train_test_split\n",
        "from sklearn.linear_model import LinearRegression \n",
        "from sklearn.tree import DecisionTreeRegressor\n",
        "from sklearn.ensemble import RandomForestRegressor\n",
        "from sklearn.metrics import mean_squared_log_error\n",
        "from sklearn.metrics import mean_squared_error\n",
        "from sklearn import metrics"
      ],
      "execution_count": null,
      "outputs": []
    },
    {
      "cell_type": "code",
      "metadata": {
        "id": "s1ZUnRfow9wU"
      },
      "source": [
        "X_train, X_test, y_train, y_test = train_test_split(train_data, y_data, test_size=0.2, random_state=42)"
      ],
      "execution_count": null,
      "outputs": []
    },
    {
      "cell_type": "markdown",
      "metadata": {
        "id": "512BecE-1lWl"
      },
      "source": [
        "# **LINEAR REGRESSION**"
      ]
    },
    {
      "cell_type": "code",
      "metadata": {
        "colab": {
          "base_uri": "https://localhost:8080/"
        },
        "id": "V0w1NGWK1bGe",
        "outputId": "09597c9f-8602-438e-ef8e-790adbf2d2f3"
      },
      "source": [
        "lin_reg = LinearRegression()\n",
        "lin_reg.fit(X_train, y_train)"
      ],
      "execution_count": null,
      "outputs": [
        {
          "output_type": "execute_result",
          "data": {
            "text/plain": [
              "LinearRegression(copy_X=True, fit_intercept=True, n_jobs=None, normalize=False)"
            ]
          },
          "metadata": {
            "tags": []
          },
          "execution_count": 8
        }
      ]
    },
    {
      "cell_type": "code",
      "metadata": {
        "colab": {
          "base_uri": "https://localhost:8080/"
        },
        "id": "asDDyfqH1bI6",
        "outputId": "af52cf9e-37fe-4a3d-9381-a1079f027e82"
      },
      "source": [
        "predict_train = lin_reg.predict(X_train)\n",
        "rmse_train = mean_squared_error(y_train,predict_train)**(0.5)\n",
        "print('RMSE on train dataset : ', rmse_train)"
      ],
      "execution_count": null,
      "outputs": [
        {
          "output_type": "stream",
          "text": [
            "RMSE on train dataset :  345.56758332840855\n"
          ],
          "name": "stdout"
        }
      ]
    },
    {
      "cell_type": "code",
      "metadata": {
        "colab": {
          "base_uri": "https://localhost:8080/"
        },
        "id": "tFs1I-Bs1bLC",
        "outputId": "b7f92379-5b31-4ed3-a434-50220cdcbaf7"
      },
      "source": [
        "predict_test = lin_reg.predict(X_test)\n",
        "rmse_test = mean_squared_error(y_test,predict_test)**(0.5)\n",
        "print('RMSE on test dataset : ', rmse_test)"
      ],
      "execution_count": null,
      "outputs": [
        {
          "output_type": "stream",
          "text": [
            "RMSE on test dataset :  2129589518217.4717\n"
          ],
          "name": "stdout"
        }
      ]
    },
    {
      "cell_type": "code",
      "metadata": {
        "colab": {
          "base_uri": "https://localhost:8080/"
        },
        "id": "qqto11sX1bNx",
        "outputId": "0a1592f0-25b1-446c-8072-90b0882fd43a"
      },
      "source": [
        "print(\"MSE on test dataset : \", mean_squared_error(y_test, predict_test))"
      ],
      "execution_count": null,
      "outputs": [
        {
          "output_type": "stream",
          "text": [
            "MSE on test dataset :  4.535151516101723e+24\n"
          ],
          "name": "stdout"
        }
      ]
    },
    {
      "cell_type": "markdown",
      "metadata": {
        "id": "sqQWmONf2E9E"
      },
      "source": [
        "# **RANDOM FOREST**"
      ]
    },
    {
      "cell_type": "code",
      "metadata": {
        "colab": {
          "base_uri": "https://localhost:8080/"
        },
        "id": "zSuDuInVw9ys",
        "outputId": "b527393a-15c8-4444-ca56-0a7f2aa50c7e"
      },
      "source": [
        "ran_reg = RandomForestRegressor(random_state=1)\n",
        "ran_reg.fit(X_train, y_train)"
      ],
      "execution_count": null,
      "outputs": [
        {
          "output_type": "execute_result",
          "data": {
            "text/plain": [
              "RandomForestRegressor(bootstrap=True, ccp_alpha=0.0, criterion='mse',\n",
              "                      max_depth=None, max_features='auto', max_leaf_nodes=None,\n",
              "                      max_samples=None, min_impurity_decrease=0.0,\n",
              "                      min_impurity_split=None, min_samples_leaf=1,\n",
              "                      min_samples_split=2, min_weight_fraction_leaf=0.0,\n",
              "                      n_estimators=100, n_jobs=None, oob_score=False,\n",
              "                      random_state=1, verbose=0, warm_start=False)"
            ]
          },
          "metadata": {
            "tags": []
          },
          "execution_count": 8
        }
      ]
    },
    {
      "cell_type": "code",
      "metadata": {
        "colab": {
          "base_uri": "https://localhost:8080/"
        },
        "id": "Fmrg3DSJ2Ib7",
        "outputId": "e755cbf8-6d22-4e27-cb20-9be80e06abb9"
      },
      "source": [
        "pred_rF = ran_reg.predict(X_test)\n",
        "print(\"Mean Squared Log Error is \", mean_squared_log_error(y_test, pred_rF))"
      ],
      "execution_count": null,
      "outputs": [
        {
          "output_type": "stream",
          "text": [
            "Mean Squared Log Error is  0.4301229983475836\n"
          ],
          "name": "stdout"
        }
      ]
    },
    {
      "cell_type": "code",
      "metadata": {
        "colab": {
          "base_uri": "https://localhost:8080/"
        },
        "id": "adJMepzM2Iib",
        "outputId": "05aba1c0-d921-45be-cdd7-42ac41a8909c"
      },
      "source": [
        "print(\"RMSLE:\", mean_squared_log_error(y_test, pred_rF)**(0.5))"
      ],
      "execution_count": null,
      "outputs": [
        {
          "output_type": "stream",
          "text": [
            "RMSLE: 0.6558376310853042\n"
          ],
          "name": "stdout"
        }
      ]
    },
    {
      "cell_type": "code",
      "metadata": {
        "colab": {
          "base_uri": "https://localhost:8080/"
        },
        "id": "PlWFNjRXw93U",
        "outputId": "bbc7ad3f-ef37-4daa-a30b-16279d3acb4b"
      },
      "source": [
        "print(\"RMSE on test dataset : \", mean_squared_error(y_test, pred_rF)**(0.5))"
      ],
      "execution_count": null,
      "outputs": [
        {
          "output_type": "stream",
          "text": [
            "RMSE on test dataset :  266.4772899784216\n"
          ],
          "name": "stdout"
        }
      ]
    },
    {
      "cell_type": "code",
      "metadata": {
        "colab": {
          "base_uri": "https://localhost:8080/"
        },
        "id": "jP0WH4RJ2Pz7",
        "outputId": "6c394552-606d-4684-a721-be7cec5520af"
      },
      "source": [
        "metrics.r2_score(y_test, pred_rF)"
      ],
      "execution_count": null,
      "outputs": [
        {
          "output_type": "execute_result",
          "data": {
            "text/plain": [
              "0.5329492386101725"
            ]
          },
          "metadata": {
            "tags": []
          },
          "execution_count": 12
        }
      ]
    },
    {
      "cell_type": "markdown",
      "metadata": {
        "id": "XPmzK8MJ7yf2"
      },
      "source": [
        "# **XGBOOST**"
      ]
    },
    {
      "cell_type": "code",
      "metadata": {
        "colab": {
          "base_uri": "https://localhost:8080/"
        },
        "id": "MMkhejSq7wyK",
        "outputId": "dbebd5b7-2fc2-4760-d30b-9a17ab3dee85"
      },
      "source": [
        "from xgboost import XGBRegressor \n",
        "XG = XGBRegressor() \n",
        "XG.fit(X_train, y_train) \n",
        "y_pred = XG.predict(X_test) \n",
        "y_pred[y_pred<0] = 0 \n",
        "print('RMSLE:', 100*np.sqrt(metrics.mean_squared_log_error(y_test, y_pred)))"
      ],
      "execution_count": null,
      "outputs": [
        {
          "output_type": "stream",
          "text": [
            "[05:38:51] WARNING: /workspace/src/objective/regression_obj.cu:152: reg:linear is now deprecated in favor of reg:squarederror.\n",
            "RMSLE: 106.27689509854181\n"
          ],
          "name": "stdout"
        }
      ]
    },
    {
      "cell_type": "code",
      "metadata": {
        "id": "MmYBCJUO7w5_",
        "colab": {
          "base_uri": "https://localhost:8080/"
        },
        "outputId": "e199fe6f-dd1f-43cc-e191-3562123c45a3"
      },
      "source": [
        "pred_xg = XG.predict(X_test)\n",
        "print(\"MAE : \", metrics.mean_absolute_error(y_test, pred_xg))"
      ],
      "execution_count": null,
      "outputs": [
        {
          "output_type": "stream",
          "text": [
            "MAE :  165.73204455126574\n"
          ],
          "name": "stdout"
        }
      ]
    },
    {
      "cell_type": "code",
      "metadata": {
        "id": "qNjpK1Cd7w81",
        "colab": {
          "base_uri": "https://localhost:8080/"
        },
        "outputId": "97d5dd0a-8998-482e-8ad9-5777c86deaf9"
      },
      "source": [
        "print(\"RMSE on test dataset : \", mean_squared_error(y_test, pred_xg)**(0.5))"
      ],
      "execution_count": null,
      "outputs": [
        {
          "output_type": "stream",
          "text": [
            "RMSE on test dataset :  325.4661677086487\n"
          ],
          "name": "stdout"
        }
      ]
    },
    {
      "cell_type": "code",
      "metadata": {
        "id": "2k-q2Ljx7xAd",
        "colab": {
          "base_uri": "https://localhost:8080/"
        },
        "outputId": "eb6d4d18-1cf3-4faf-ba0f-75328401ea5e"
      },
      "source": [
        "from sklearn.metrics import mean_squared_error as MSE\n",
        "rmse = np.sqrt(MSE(y_test, pred_xg))\n",
        "print(\"RMSE : % f\" %(rmse))"
      ],
      "execution_count": null,
      "outputs": [
        {
          "output_type": "stream",
          "text": [
            "RMSE :  325.466168\n"
          ],
          "name": "stdout"
        }
      ]
    },
    {
      "cell_type": "code",
      "metadata": {
        "id": "6ZcAW5F17xDF",
        "colab": {
          "base_uri": "https://localhost:8080/"
        },
        "outputId": "31e45758-2378-4dbe-c2e2-7baaac851d70"
      },
      "source": [
        "metrics.r2_score(y_test, pred_xg)"
      ],
      "execution_count": null,
      "outputs": [
        {
          "output_type": "execute_result",
          "data": {
            "text/plain": [
              "0.3032846502655696"
            ]
          },
          "metadata": {
            "tags": []
          },
          "execution_count": 17
        }
      ]
    },
    {
      "cell_type": "code",
      "metadata": {
        "id": "-ao9aKG97xHu"
      },
      "source": [
        "n_estimators = [100, 500, 900, 1000, 1100, 1500]\n",
        "max_depth = [2, 3, 5, 7, 10, 15]\n",
        "booster=['gbtree','gblinear']\n",
        "base_score=[0.25,0.5,0.75,1]\n",
        "learning_rate=[0.05,0.1,0.13,0.15,0.17,0.20]\n",
        "min_child_weight=[1,2,3,4,5,9,10]\n",
        "\n",
        "# Define the grid of hyperparameters to search\n",
        "hyperparameter_grid = {\n",
        "    'n_estimators': n_estimators,\n",
        "    'max_depth':max_depth,\n",
        "    'learning_rate':learning_rate,\n",
        "    'min_child_weight':min_child_weight,\n",
        "    'booster':booster,\n",
        "    'base_score':base_score\n",
        "    }"
      ],
      "execution_count": null,
      "outputs": []
    },
    {
      "cell_type": "code",
      "metadata": {
        "id": "efi6ZMEP7xKP"
      },
      "source": [
        " from sklearn.model_selection import RandomizedSearchCV"
      ],
      "execution_count": null,
      "outputs": []
    },
    {
      "cell_type": "code",
      "metadata": {
        "id": "966oi4wT7xMV"
      },
      "source": [
        "random_cv = RandomizedSearchCV(estimator=XG,\n",
        "            param_distributions=hyperparameter_grid,\n",
        "            cv=5, n_iter=50,\n",
        "            scoring = 'neg_mean_absolute_error',n_jobs = 4,\n",
        "            verbose = 5, \n",
        "            return_train_score = True,\n",
        "            random_state=42)"
      ],
      "execution_count": null,
      "outputs": []
    },
    {
      "cell_type": "code",
      "metadata": {
        "id": "y_jbvBB67xOm",
        "colab": {
          "base_uri": "https://localhost:8080/"
        },
        "outputId": "9a64562e-a91a-4ab1-eb09-8b05cfdbd479"
      },
      "source": [
        "random_cv.fit(X_train,y_train)"
      ],
      "execution_count": null,
      "outputs": [
        {
          "output_type": "stream",
          "text": [
            "Fitting 5 folds for each of 50 candidates, totalling 250 fits\n"
          ],
          "name": "stdout"
        },
        {
          "output_type": "stream",
          "text": [
            "[Parallel(n_jobs=4)]: Using backend LokyBackend with 4 concurrent workers.\n"
          ],
          "name": "stderr"
        }
      ]
    },
    {
      "cell_type": "code",
      "metadata": {
        "id": "k1chjmST7xQm"
      },
      "source": [
        ""
      ],
      "execution_count": null,
      "outputs": []
    },
    {
      "cell_type": "code",
      "metadata": {
        "id": "bqWzdZxY7xSu"
      },
      "source": [
        ""
      ],
      "execution_count": null,
      "outputs": []
    },
    {
      "cell_type": "code",
      "metadata": {
        "id": "cYSmzEKP7xU-"
      },
      "source": [
        ""
      ],
      "execution_count": null,
      "outputs": []
    },
    {
      "cell_type": "code",
      "metadata": {
        "id": "jWAJ0jyh7xaO"
      },
      "source": [
        ""
      ],
      "execution_count": null,
      "outputs": []
    }
  ]
}